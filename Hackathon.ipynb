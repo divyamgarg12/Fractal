{
 "cells": [
  {
   "cell_type": "code",
   "execution_count": 30,
   "id": "3e1ef2d6",
   "metadata": {},
   "outputs": [],
   "source": [
    "import pandas as pd\n",
    "import numpy as np"
   ]
  },
  {
   "cell_type": "code",
   "execution_count": 31,
   "id": "322eb18e",
   "metadata": {},
   "outputs": [],
   "source": [
    "train = pd.read_csv(\"C:/Users/divyam.garg/Downloads/train.csv\")\n",
    "test = pd.read_csv(\"C:/Users/divyam.garg/Downloads/test.csv\")"
   ]
  },
  {
   "cell_type": "code",
   "execution_count": 32,
   "id": "bda9637d",
   "metadata": {},
   "outputs": [
    {
     "data": {
      "text/html": [
       "<div>\n",
       "<style scoped>\n",
       "    .dataframe tbody tr th:only-of-type {\n",
       "        vertical-align: middle;\n",
       "    }\n",
       "\n",
       "    .dataframe tbody tr th {\n",
       "        vertical-align: top;\n",
       "    }\n",
       "\n",
       "    .dataframe thead th {\n",
       "        text-align: right;\n",
       "    }\n",
       "</style>\n",
       "<table border=\"1\" class=\"dataframe\">\n",
       "  <thead>\n",
       "    <tr style=\"text-align: right;\">\n",
       "      <th></th>\n",
       "      <th>ID</th>\n",
       "      <th>Day_No</th>\n",
       "      <th>Course_ID</th>\n",
       "      <th>Course_Domain</th>\n",
       "      <th>Course_Type</th>\n",
       "      <th>Short_Promotion</th>\n",
       "      <th>Public_Holiday</th>\n",
       "      <th>Long_Promotion</th>\n",
       "      <th>User_Traffic</th>\n",
       "      <th>Competition_Metric</th>\n",
       "      <th>Sales</th>\n",
       "    </tr>\n",
       "  </thead>\n",
       "  <tbody>\n",
       "    <tr>\n",
       "      <th>0</th>\n",
       "      <td>1</td>\n",
       "      <td>1</td>\n",
       "      <td>1</td>\n",
       "      <td>Development</td>\n",
       "      <td>Course</td>\n",
       "      <td>0</td>\n",
       "      <td>1</td>\n",
       "      <td>1</td>\n",
       "      <td>11004</td>\n",
       "      <td>0.007</td>\n",
       "      <td>81</td>\n",
       "    </tr>\n",
       "    <tr>\n",
       "      <th>1</th>\n",
       "      <td>2</td>\n",
       "      <td>2</td>\n",
       "      <td>1</td>\n",
       "      <td>Development</td>\n",
       "      <td>Course</td>\n",
       "      <td>0</td>\n",
       "      <td>0</td>\n",
       "      <td>1</td>\n",
       "      <td>13650</td>\n",
       "      <td>0.007</td>\n",
       "      <td>79</td>\n",
       "    </tr>\n",
       "    <tr>\n",
       "      <th>2</th>\n",
       "      <td>3</td>\n",
       "      <td>3</td>\n",
       "      <td>1</td>\n",
       "      <td>Development</td>\n",
       "      <td>Course</td>\n",
       "      <td>0</td>\n",
       "      <td>0</td>\n",
       "      <td>1</td>\n",
       "      <td>11655</td>\n",
       "      <td>0.007</td>\n",
       "      <td>75</td>\n",
       "    </tr>\n",
       "    <tr>\n",
       "      <th>3</th>\n",
       "      <td>4</td>\n",
       "      <td>4</td>\n",
       "      <td>1</td>\n",
       "      <td>Development</td>\n",
       "      <td>Course</td>\n",
       "      <td>0</td>\n",
       "      <td>0</td>\n",
       "      <td>1</td>\n",
       "      <td>12054</td>\n",
       "      <td>0.007</td>\n",
       "      <td>80</td>\n",
       "    </tr>\n",
       "    <tr>\n",
       "      <th>4</th>\n",
       "      <td>5</td>\n",
       "      <td>5</td>\n",
       "      <td>1</td>\n",
       "      <td>Development</td>\n",
       "      <td>Course</td>\n",
       "      <td>0</td>\n",
       "      <td>0</td>\n",
       "      <td>1</td>\n",
       "      <td>6804</td>\n",
       "      <td>0.007</td>\n",
       "      <td>41</td>\n",
       "    </tr>\n",
       "  </tbody>\n",
       "</table>\n",
       "</div>"
      ],
      "text/plain": [
       "   ID  Day_No  Course_ID Course_Domain Course_Type  Short_Promotion  \\\n",
       "0   1       1          1   Development      Course                0   \n",
       "1   2       2          1   Development      Course                0   \n",
       "2   3       3          1   Development      Course                0   \n",
       "3   4       4          1   Development      Course                0   \n",
       "4   5       5          1   Development      Course                0   \n",
       "\n",
       "   Public_Holiday  Long_Promotion  User_Traffic  Competition_Metric  Sales  \n",
       "0               1               1         11004               0.007     81  \n",
       "1               0               1         13650               0.007     79  \n",
       "2               0               1         11655               0.007     75  \n",
       "3               0               1         12054               0.007     80  \n",
       "4               0               1          6804               0.007     41  "
      ]
     },
     "execution_count": 32,
     "metadata": {},
     "output_type": "execute_result"
    }
   ],
   "source": [
    "train.head()"
   ]
  },
  {
   "cell_type": "code",
   "execution_count": 33,
   "id": "d1aeacf3",
   "metadata": {},
   "outputs": [
    {
     "data": {
      "text/html": [
       "<div>\n",
       "<style scoped>\n",
       "    .dataframe tbody tr th:only-of-type {\n",
       "        vertical-align: middle;\n",
       "    }\n",
       "\n",
       "    .dataframe tbody tr th {\n",
       "        vertical-align: top;\n",
       "    }\n",
       "\n",
       "    .dataframe thead th {\n",
       "        text-align: right;\n",
       "    }\n",
       "</style>\n",
       "<table border=\"1\" class=\"dataframe\">\n",
       "  <thead>\n",
       "    <tr style=\"text-align: right;\">\n",
       "      <th></th>\n",
       "      <th>ID</th>\n",
       "      <th>Day_No</th>\n",
       "      <th>Course_ID</th>\n",
       "      <th>Course_Domain</th>\n",
       "      <th>Course_Type</th>\n",
       "      <th>Short_Promotion</th>\n",
       "      <th>Public_Holiday</th>\n",
       "      <th>Long_Promotion</th>\n",
       "      <th>Competition_Metric</th>\n",
       "    </tr>\n",
       "  </thead>\n",
       "  <tbody>\n",
       "    <tr>\n",
       "      <th>0</th>\n",
       "      <td>883</td>\n",
       "      <td>883</td>\n",
       "      <td>1</td>\n",
       "      <td>Development</td>\n",
       "      <td>Course</td>\n",
       "      <td>1</td>\n",
       "      <td>0</td>\n",
       "      <td>1</td>\n",
       "      <td>0.007</td>\n",
       "    </tr>\n",
       "    <tr>\n",
       "      <th>1</th>\n",
       "      <td>884</td>\n",
       "      <td>884</td>\n",
       "      <td>1</td>\n",
       "      <td>Development</td>\n",
       "      <td>Course</td>\n",
       "      <td>1</td>\n",
       "      <td>0</td>\n",
       "      <td>1</td>\n",
       "      <td>0.007</td>\n",
       "    </tr>\n",
       "    <tr>\n",
       "      <th>2</th>\n",
       "      <td>885</td>\n",
       "      <td>885</td>\n",
       "      <td>1</td>\n",
       "      <td>Development</td>\n",
       "      <td>Course</td>\n",
       "      <td>1</td>\n",
       "      <td>0</td>\n",
       "      <td>1</td>\n",
       "      <td>0.007</td>\n",
       "    </tr>\n",
       "    <tr>\n",
       "      <th>3</th>\n",
       "      <td>886</td>\n",
       "      <td>886</td>\n",
       "      <td>1</td>\n",
       "      <td>Development</td>\n",
       "      <td>Course</td>\n",
       "      <td>1</td>\n",
       "      <td>0</td>\n",
       "      <td>1</td>\n",
       "      <td>0.007</td>\n",
       "    </tr>\n",
       "    <tr>\n",
       "      <th>4</th>\n",
       "      <td>887</td>\n",
       "      <td>887</td>\n",
       "      <td>1</td>\n",
       "      <td>Development</td>\n",
       "      <td>Course</td>\n",
       "      <td>0</td>\n",
       "      <td>0</td>\n",
       "      <td>1</td>\n",
       "      <td>0.007</td>\n",
       "    </tr>\n",
       "  </tbody>\n",
       "</table>\n",
       "</div>"
      ],
      "text/plain": [
       "    ID  Day_No  Course_ID Course_Domain Course_Type  Short_Promotion  \\\n",
       "0  883     883          1   Development      Course                1   \n",
       "1  884     884          1   Development      Course                1   \n",
       "2  885     885          1   Development      Course                1   \n",
       "3  886     886          1   Development      Course                1   \n",
       "4  887     887          1   Development      Course                0   \n",
       "\n",
       "   Public_Holiday  Long_Promotion  Competition_Metric  \n",
       "0               0               1               0.007  \n",
       "1               0               1               0.007  \n",
       "2               0               1               0.007  \n",
       "3               0               1               0.007  \n",
       "4               0               1               0.007  "
      ]
     },
     "execution_count": 33,
     "metadata": {},
     "output_type": "execute_result"
    }
   ],
   "source": [
    "test.head()"
   ]
  },
  {
   "cell_type": "code",
   "execution_count": 34,
   "id": "fd4361e1",
   "metadata": {},
   "outputs": [
    {
     "name": "stdout",
     "output_type": "stream",
     "text": [
      "<class 'pandas.core.frame.DataFrame'>\n",
      "RangeIndex: 512087 entries, 0 to 512086\n",
      "Data columns (total 11 columns):\n",
      " #   Column              Non-Null Count   Dtype  \n",
      "---  ------              --------------   -----  \n",
      " 0   ID                  512087 non-null  int64  \n",
      " 1   Day_No              512087 non-null  int64  \n",
      " 2   Course_ID           512087 non-null  int64  \n",
      " 3   Course_Domain       512087 non-null  object \n",
      " 4   Course_Type         512087 non-null  object \n",
      " 5   Short_Promotion     512087 non-null  int64  \n",
      " 6   Public_Holiday      512087 non-null  int64  \n",
      " 7   Long_Promotion      512087 non-null  int64  \n",
      " 8   User_Traffic        512087 non-null  int64  \n",
      " 9   Competition_Metric  510323 non-null  float64\n",
      " 10  Sales               512087 non-null  int64  \n",
      "dtypes: float64(1), int64(8), object(2)\n",
      "memory usage: 43.0+ MB\n"
     ]
    }
   ],
   "source": [
    "train.info()"
   ]
  },
  {
   "cell_type": "code",
   "execution_count": 35,
   "id": "acb415fc",
   "metadata": {},
   "outputs": [],
   "source": [
    "train.isnull().sum()\n",
    "\n",
    "# There are 1764 Nas in train dataset, we can fill Na using median\n",
    "train.fillna(train['Competition_Metric'].median(), inplace =True)"
   ]
  },
  {
   "cell_type": "code",
   "execution_count": 36,
   "id": "b26cba46",
   "metadata": {},
   "outputs": [
    {
     "name": "stdout",
     "output_type": "stream",
     "text": [
      "<class 'pandas.core.frame.DataFrame'>\n",
      "RangeIndex: 512087 entries, 0 to 512086\n",
      "Data columns (total 11 columns):\n",
      " #   Column              Non-Null Count   Dtype  \n",
      "---  ------              --------------   -----  \n",
      " 0   ID                  512087 non-null  int64  \n",
      " 1   Day_No              512087 non-null  int64  \n",
      " 2   Course_ID           512087 non-null  int64  \n",
      " 3   Course_Domain       512087 non-null  object \n",
      " 4   Course_Type         512087 non-null  object \n",
      " 5   Short_Promotion     512087 non-null  int64  \n",
      " 6   Public_Holiday      512087 non-null  int64  \n",
      " 7   Long_Promotion      512087 non-null  int64  \n",
      " 8   User_Traffic        512087 non-null  int64  \n",
      " 9   Competition_Metric  512087 non-null  float64\n",
      " 10  Sales               512087 non-null  int64  \n",
      "dtypes: float64(1), int64(8), object(2)\n",
      "memory usage: 43.0+ MB\n"
     ]
    }
   ],
   "source": [
    "train.info()"
   ]
  },
  {
   "cell_type": "code",
   "execution_count": 37,
   "id": "5cec19dc",
   "metadata": {},
   "outputs": [],
   "source": [
    "# There are also 120 Nas in test dataset so we can apply median to fill Nas\n",
    "test.fillna(test['Competition_Metric'].median(), inplace =True)"
   ]
  },
  {
   "cell_type": "code",
   "execution_count": 38,
   "id": "0de0c65d",
   "metadata": {},
   "outputs": [
    {
     "data": {
      "text/plain": [
       "ID                    0\n",
       "Day_No                0\n",
       "Course_ID             0\n",
       "Course_Domain         0\n",
       "Course_Type           0\n",
       "Short_Promotion       0\n",
       "Public_Holiday        0\n",
       "Long_Promotion        0\n",
       "Competition_Metric    0\n",
       "dtype: int64"
      ]
     },
     "execution_count": 38,
     "metadata": {},
     "output_type": "execute_result"
    }
   ],
   "source": [
    "test.isnull().sum()"
   ]
  },
  {
   "cell_type": "code",
   "execution_count": 39,
   "id": "2718eb9d",
   "metadata": {},
   "outputs": [
    {
     "name": "stdout",
     "output_type": "stream",
     "text": [
      "<class 'pandas.core.frame.DataFrame'>\n",
      "RangeIndex: 36000 entries, 0 to 35999\n",
      "Data columns (total 9 columns):\n",
      " #   Column              Non-Null Count  Dtype  \n",
      "---  ------              --------------  -----  \n",
      " 0   ID                  36000 non-null  int64  \n",
      " 1   Day_No              36000 non-null  int64  \n",
      " 2   Course_ID           36000 non-null  int64  \n",
      " 3   Course_Domain       36000 non-null  object \n",
      " 4   Course_Type         36000 non-null  object \n",
      " 5   Short_Promotion     36000 non-null  int64  \n",
      " 6   Public_Holiday      36000 non-null  int64  \n",
      " 7   Long_Promotion      36000 non-null  int64  \n",
      " 8   Competition_Metric  36000 non-null  float64\n",
      "dtypes: float64(1), int64(6), object(2)\n",
      "memory usage: 2.5+ MB\n"
     ]
    }
   ],
   "source": [
    "test.info()"
   ]
  },
  {
   "cell_type": "code",
   "execution_count": 40,
   "id": "084f1b13",
   "metadata": {},
   "outputs": [
    {
     "data": {
      "text/plain": [
       "<AxesSubplot:xlabel='Sales', ylabel='Density'>"
      ]
     },
     "execution_count": 40,
     "metadata": {},
     "output_type": "execute_result"
    },
    {
     "data": {
      "image/png": "[encoded data removed]",
      "text/plain": [
       "<Figure size 432x288 with 1 Axes>"
      ]
     },
     "metadata": {
      "needs_background": "light"
     },
     "output_type": "display_data"
    }
   ],
   "source": [
    "import seaborn as sns\n",
    "\n",
    "sns.kdeplot(train['Sales'], shade = True)"
   ]
  },
  {
   "cell_type": "code",
   "execution_count": 41,
   "id": "1226ddb4",
   "metadata": {},
   "outputs": [
    {
     "name": "stderr",
     "output_type": "stream",
     "text": [
      "C:\\Anaconda\\lib\\site-packages\\seaborn\\_decorators.py:36: FutureWarning: Pass the following variable as a keyword arg: x. From version 0.12, the only valid positional argument will be `data`, and passing other arguments without an explicit keyword will result in an error or misinterpretation.\n",
      "  warnings.warn(\n"
     ]
    },
    {
     "data": {
      "text/plain": [
       "<AxesSubplot:xlabel='Course_Domain', ylabel='count'>"
      ]
     },
     "execution_count": 41,
     "metadata": {},
     "output_type": "execute_result"
    },
    {
     "data": {
      "image/png": "[encoded data removed]",
      "text/plain": [
       "<Figure size 432x288 with 1 Axes>"
      ]
     },
     "metadata": {
      "needs_background": "light"
     },
     "output_type": "display_data"
    }
   ],
   "source": [
    "sns.countplot(train['Course_Domain'])\n"
   ]
  },
  {
   "cell_type": "code",
   "execution_count": 42,
   "id": "e53ff758",
   "metadata": {},
   "outputs": [
    {
     "name": "stderr",
     "output_type": "stream",
     "text": [
      "C:\\Anaconda\\lib\\site-packages\\seaborn\\_decorators.py:36: FutureWarning: Pass the following variable as a keyword arg: x. From version 0.12, the only valid positional argument will be `data`, and passing other arguments without an explicit keyword will result in an error or misinterpretation.\n",
      "  warnings.warn(\n"
     ]
    },
    {
     "data": {
      "text/plain": [
       "<AxesSubplot:xlabel='Course_Domain', ylabel='count'>"
      ]
     },
     "execution_count": 42,
     "metadata": {},
     "output_type": "execute_result"
    },
    {
     "data": {
      "image/png": "[encoded data removed]",
      "text/plain": [
       "<Figure size 432x288 with 1 Axes>"
      ]
     },
     "metadata": {
      "needs_background": "light"
     },
     "output_type": "display_data"
    }
   ],
   "source": [
    "sns.countplot(test['Course_Domain'])"
   ]
  },
  {
   "cell_type": "code",
   "execution_count": 43,
   "id": "8c82cdf7",
   "metadata": {},
   "outputs": [
    {
     "name": "stderr",
     "output_type": "stream",
     "text": [
      "C:\\Anaconda\\lib\\site-packages\\seaborn\\_decorators.py:36: FutureWarning: Pass the following variable as a keyword arg: x. From version 0.12, the only valid positional argument will be `data`, and passing other arguments without an explicit keyword will result in an error or misinterpretation.\n",
      "  warnings.warn(\n"
     ]
    },
    {
     "data": {
      "text/plain": [
       "<AxesSubplot:xlabel='Course_Type', ylabel='count'>"
      ]
     },
     "execution_count": 43,
     "metadata": {},
     "output_type": "execute_result"
    },
    {
     "data": {
      "image/png": "[encoded data removed]",
      "text/plain": [
       "<Figure size 432x288 with 1 Axes>"
      ]
     },
     "metadata": {
      "needs_background": "light"
     },
     "output_type": "display_data"
    }
   ],
   "source": [
    "sns.countplot(train['Course_Type'])"
   ]
  },
  {
   "cell_type": "code",
   "execution_count": 44,
   "id": "332bc8df",
   "metadata": {},
   "outputs": [
    {
     "name": "stderr",
     "output_type": "stream",
     "text": [
      "C:\\Anaconda\\lib\\site-packages\\seaborn\\_decorators.py:36: FutureWarning: Pass the following variable as a keyword arg: x. From version 0.12, the only valid positional argument will be `data`, and passing other arguments without an explicit keyword will result in an error or misinterpretation.\n",
      "  warnings.warn(\n"
     ]
    },
    {
     "data": {
      "text/plain": [
       "<AxesSubplot:xlabel='Course_Type', ylabel='count'>"
      ]
     },
     "execution_count": 44,
     "metadata": {},
     "output_type": "execute_result"
    },
    {
     "data": {
      "image/png": "[encoded data removed]",
      "text/plain": [
       "<Figure size 432x288 with 1 Axes>"
      ]
     },
     "metadata": {
      "needs_background": "light"
     },
     "output_type": "display_data"
    }
   ],
   "source": [
    "sns.countplot(test['Course_Type'])"
   ]
  },
  {
   "cell_type": "code",
   "execution_count": 45,
   "id": "c881529f",
   "metadata": {},
   "outputs": [
    {
     "name": "stderr",
     "output_type": "stream",
     "text": [
      "C:\\Anaconda\\lib\\site-packages\\seaborn\\_decorators.py:36: FutureWarning: Pass the following variable as a keyword arg: x. From version 0.12, the only valid positional argument will be `data`, and passing other arguments without an explicit keyword will result in an error or misinterpretation.\n",
      "  warnings.warn(\n"
     ]
    },
    {
     "data": {
      "text/plain": [
       "<AxesSubplot:xlabel='Short_Promotion', ylabel='count'>"
      ]
     },
     "execution_count": 45,
     "metadata": {},
     "output_type": "execute_result"
    },
    {
     "data": {
      "image/png": "[encoded data removed]",
      "text/plain": [
       "<Figure size 432x288 with 1 Axes>"
      ]
     },
     "metadata": {
      "needs_background": "light"
     },
     "output_type": "display_data"
    }
   ],
   "source": [
    "sns.countplot(train['Short_Promotion'])\n"
   ]
  },
  {
   "cell_type": "code",
   "execution_count": 46,
   "id": "2634422d",
   "metadata": {},
   "outputs": [
    {
     "name": "stderr",
     "output_type": "stream",
     "text": [
      "C:\\Anaconda\\lib\\site-packages\\seaborn\\_decorators.py:36: FutureWarning: Pass the following variable as a keyword arg: x. From version 0.12, the only valid positional argument will be `data`, and passing other arguments without an explicit keyword will result in an error or misinterpretation.\n",
      "  warnings.warn(\n"
     ]
    },
    {
     "data": {
      "text/plain": [
       "<AxesSubplot:xlabel='Short_Promotion', ylabel='count'>"
      ]
     },
     "execution_count": 46,
     "metadata": {},
     "output_type": "execute_result"
    },
    {
     "data": {
      "image/png": "[encoded data removed]",
      "text/plain": [
       "<Figure size 432x288 with 1 Axes>"
      ]
     },
     "metadata": {
      "needs_background": "light"
     },
     "output_type": "display_data"
    }
   ],
   "source": [
    "sns.countplot(test['Short_Promotion'])"
   ]
  },
  {
   "cell_type": "code",
   "execution_count": 47,
   "id": "5202fabc",
   "metadata": {},
   "outputs": [
    {
     "data": {
      "text/plain": [
       "<AxesSubplot:xlabel='Competition_Metric', ylabel='Density'>"
      ]
     },
     "execution_count": 47,
     "metadata": {},
     "output_type": "execute_result"
    },
    {
     "data": {
      "image/png": "[encoded data removed]",
      "text/plain": [
       "<Figure size 432x288 with 1 Axes>"
      ]
     },
     "metadata": {
      "needs_background": "light"
     },
     "output_type": "display_data"
    }
   ],
   "source": [
    "sns.kdeplot(train['Competition_Metric'], shade = True)"
   ]
  },
  {
   "cell_type": "code",
   "execution_count": 48,
   "id": "1c7cd7dc",
   "metadata": {},
   "outputs": [
    {
     "data": {
      "text/plain": [
       "<AxesSubplot:xlabel='Competition_Metric', ylabel='Density'>"
      ]
     },
     "execution_count": 48,
     "metadata": {},
     "output_type": "execute_result"
    },
    {
     "data": {
      "image/png": "[encoded data removed]",
      "text/plain": [
       "<Figure size 432x288 with 1 Axes>"
      ]
     },
     "metadata": {
      "needs_background": "light"
     },
     "output_type": "display_data"
    }
   ],
   "source": [
    "sns.kdeplot(test['Competition_Metric'], shade = True)"
   ]
  },
  {
   "cell_type": "code",
   "execution_count": 49,
   "id": "0234bd0b",
   "metadata": {},
   "outputs": [],
   "source": [
    "# As user_traffic is not present in test data we can drop User_Traffic from train data\n",
    "train.drop('User_Traffic',axis=1,inplace=True)"
   ]
  },
  {
   "cell_type": "code",
   "execution_count": 50,
   "id": "34f00a6e",
   "metadata": {},
   "outputs": [],
   "source": [
    "train['Course_Domain'] = train['Course_Domain'].astype('category')\n",
    "train['Course_Type'] = train['Course_Type'].astype('category')\n",
    "test['Course_Domain'] = test['Course_Domain'].astype('category')\n",
    "test['Course_Type'] = test['Course_Type'].astype('category')\n"
   ]
  },
  {
   "cell_type": "code",
   "execution_count": 51,
   "id": "7c556536",
   "metadata": {},
   "outputs": [],
   "source": [
    "categorical_vars_train = train.select_dtypes(exclude = ['int64', 'Int64', 'float64']).columns\n",
    "categorical_vars_test = test.select_dtypes(exclude = ['int64', 'Int64', 'float64']).columns\n",
    "train = pd.get_dummies(train, columns = categorical_vars_train, drop_first = True)\n",
    "test = pd.get_dummies(test, columns = categorical_vars_test, drop_first = True)"
   ]
  },
  {
   "cell_type": "code",
   "execution_count": 52,
   "id": "9c797a69",
   "metadata": {},
   "outputs": [],
   "source": [
    "# As competition metric is highly skewed, we can transform it into log using feature engineering\n",
    "train['Competition_Metric'] = train['Competition_Metric'] *100\n",
    "train['Competition_Metric'] = np.log(train['Competition_Metric'] + 0.1)"
   ]
  },
  {
   "cell_type": "code",
   "execution_count": 53,
   "id": "381606b1",
   "metadata": {},
   "outputs": [],
   "source": [
    "test['Competition_Metric'] = test['Competition_Metric'] *100\n",
    "test['Competition_Metric'] = np.log(test['Competition_Metric'] + 0.1)"
   ]
  },
  {
   "cell_type": "code",
   "execution_count": 54,
   "id": "b87dcad9",
   "metadata": {},
   "outputs": [
    {
     "data": {
      "text/plain": [
       "256    600\n",
       "150    600\n",
       "401    600\n",
       "146    600\n",
       "402    600\n",
       "      ... \n",
       "650    507\n",
       "709    507\n",
       "550    507\n",
       "580    507\n",
       "622    507\n",
       "Name: Day_No, Length: 882, dtype: int64"
      ]
     },
     "execution_count": 54,
     "metadata": {},
     "output_type": "execute_result"
    }
   ],
   "source": [
    "train['Day_No'].value_counts()"
   ]
  },
  {
   "cell_type": "code",
   "execution_count": 55,
   "id": "4a94f603",
   "metadata": {},
   "outputs": [],
   "source": [
    "# Convert Day_No into Day_of_Week\n",
    "train['Day_of_week']=train['Day_No'].apply(lambda x:x%7)\n",
    "test['Day_of_week']=test['Day_No'].apply(lambda x:x%7)\n",
    "train.drop('Day_No',axis=1,inplace=True)\n",
    "test.drop('Day_No',axis=1,inplace=True)"
   ]
  },
  {
   "cell_type": "code",
   "execution_count": 56,
   "id": "0819d3e4",
   "metadata": {},
   "outputs": [
    {
     "data": {
      "text/plain": [
       "((512087, 12), (512087,))"
      ]
     },
     "execution_count": 56,
     "metadata": {},
     "output_type": "execute_result"
    }
   ],
   "source": [
    "#seperating independent and dependent variables\n",
    "train_x = train.drop(['Sales'], axis=1)\n",
    "train_y = train['Sales']\n",
    "train_x.shape, train_y.shape"
   ]
  },
  {
   "cell_type": "code",
   "execution_count": 57,
   "id": "31b77876",
   "metadata": {},
   "outputs": [
    {
     "data": {
      "text/plain": [
       "411.95156031817163"
      ]
     },
     "execution_count": 57,
     "metadata": {},
     "output_type": "execute_result"
    }
   ],
   "source": [
    "from sklearn.linear_model import LinearRegression as LR\n",
    "from sklearn.metrics import mean_squared_log_error as msle\n",
    "\n",
    "lr = LR()\n",
    "\n",
    "\n",
    "lr.fit(train_x,train_y)\n",
    "train_yhat = lr.predict(train_x)\n",
    "\n",
    "\n",
    "train_score = msle(train_y,train_yhat)\n",
    "\n",
    "np.sqrt(train_score) * 1000"
   ]
  },
  {
   "cell_type": "code",
   "execution_count": 58,
   "id": "86c4b231",
   "metadata": {},
   "outputs": [],
   "source": [
    "test_sales = lr.predict(test)\n",
    "\n",
    "Final_submission = pd.DataFrame(test['ID'])\n",
    "Final_submission['Sales'] = test_sales\n",
    "\n",
    "Final_submission.set_index('ID', inplace = True)\n",
    "\n",
    "Final_submission.to_csv('Divyam1.csv')"
   ]
  },
  {
   "cell_type": "code",
   "execution_count": 59,
   "id": "d984a859",
   "metadata": {},
   "outputs": [],
   "source": [
    "from sklearn.tree import DecisionTreeClassifier as DT\n",
    "dt = DT(random_state=10)\n",
    "\n",
    "\n",
    "dt.fit(train_x,train_y)\n",
    "train_yhat = dt.predict(train_x)\n",
    "\n",
    "\n",
    "train_score = msle(train_y,train_yhat)\n"
   ]
  },
  {
   "cell_type": "code",
   "execution_count": null,
   "id": "7a73bdad",
   "metadata": {},
   "outputs": [],
   "source": [
    "## Tuning depth of the tree\n",
    "train_score = []\n",
    "\n",
    "for depth in range(1,20):\n",
    "    dt_model = DT(max_depth=depth, random_state=10)\n",
    "    dt_model.fit(train_x, train_y)\n",
    "    train_yhat = dt_model.predict(train_x)\n",
    "    train_score.append(msle(train_y, train_yhat))\n"
   ]
  },
  {
   "cell_type": "code",
   "execution_count": null,
   "id": "18221c21",
   "metadata": {},
   "outputs": [],
   "source": [
    "frame = pd.DataFrame({'max_depth':range(1,20), 'train_score':train_score})\n",
    "frame"
   ]
  },
  {
   "cell_type": "code",
   "execution_count": null,
   "id": "9c1f9635",
   "metadata": {},
   "outputs": [],
   "source": [
    "import matplotlib.pyplot as plt\n",
    "\n",
    "plt.figure(figsize=(12,6))\n",
    "plt.plot(frame['max_depth'], frame['train_score'], marker='o')\n",
    "plt.xlabel('Depth of tree')\n",
    "plt.ylabel('performance')"
   ]
  },
  {
   "cell_type": "code",
   "execution_count": null,
   "id": "9713ae32",
   "metadata": {},
   "outputs": [],
   "source": [
    "from sklearn.tree import DecisionTreeClassifier as DT\n",
    "dt = DT(max_depth=20, random_state=10)\n",
    "\n",
    "\n",
    "dt.fit(train_x,train_y)\n",
    "train_yhat = dt.predict(train_x)\n",
    "\n",
    "\n",
    "train_score = msle(train_y,train_yhat)"
   ]
  },
  {
   "cell_type": "code",
   "execution_count": null,
   "id": "af3bb8d3",
   "metadata": {},
   "outputs": [],
   "source": [
    "test_sales = dt.predict(test)\n",
    "\n",
    "Final_submission = pd.DataFrame(test['ID'])\n",
    "Final_submission['Sales'] = test_sales\n",
    "\n",
    "Final_submission.set_index('ID', inplace = True)\n",
    "\n",
    "Final_submission.to_csv('Divyam3.csv')"
   ]
  },
  {
   "cell_type": "code",
   "execution_count": null,
   "id": "ada8403c",
   "metadata": {},
   "outputs": [],
   "source": []
  }
 ],
 "metadata": {
  "kernelspec": {
   "display_name": "Python 3",
   "language": "python",
   "name": "python3"
  },
  "language_info": {
   "codemirror_mode": {
    "name": "ipython",
    "version": 3
   },
   "file_extension": ".py",
   "mimetype": "text/x-python",
   "name": "python",
   "nbconvert_exporter": "python",
   "pygments_lexer": "ipython3",
   "version": "3.8.8"
  }
 },
 "nbformat": 4,
 "nbformat_minor": 5
}
